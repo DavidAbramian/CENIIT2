{
 "cells": [
  {
   "cell_type": "code",
   "execution_count": 1,
   "metadata": {},
   "outputs": [],
   "source": [
    "import argparse\n",
    "import os\n",
    "import random\n",
    "\n",
    "import matplotlib.pyplot as plt\n",
    "import nibabel as nib\n",
    "import numpy as np\n",
    "import pydicom\n",
    "from pydicom.dataset import Dataset\n",
    "from pydicom.sequence import Sequence\n",
    "from skimage import measure"
   ]
  },
  {
   "cell_type": "code",
   "execution_count": null,
   "metadata": {},
   "outputs": [],
   "source": [
    "ds1 = pydicom.dcmread(\"17904_dicom/slice001.dcm\")\n",
    "ds2 = pydicom.dcmread(\"17904_dicom/slice002.dcm\", stop_before_pixels=True)"
   ]
  },
  {
   "cell_type": "code",
   "execution_count": 2,
   "metadata": {},
   "outputs": [],
   "source": [
    "ds1 = pydicom.dcmread(\"17904_dicom/slice001.dcm\", stop_before_pixels=True)\n",
    "ds2 = pydicom.dcmread(\"19849_dicom/slice001.dcm\", stop_before_pixels=True)"
   ]
  },
  {
   "cell_type": "code",
   "execution_count": null,
   "metadata": {},
   "outputs": [],
   "source": [
    "ds = []\n",
    "for i in range(1,257):\n",
    "    ds.append(pydicom.dcmread(f\"17904_dicom/slice{i:03}.dcm\", stop_before_pixels=True))\n",
    "    ds.\n",
    "    # print(f\"17904_dicom/slice{i:03}.dcm\")"
   ]
  },
  {
   "cell_type": "code",
   "execution_count": 3,
   "metadata": {},
   "outputs": [],
   "source": [
    "os.mkdir(\"17904_fixed\")"
   ]
  },
  {
   "cell_type": "code",
   "execution_count": 22,
   "metadata": {},
   "outputs": [],
   "source": [
    "subj = 19849\n",
    "\n",
    "os.mkdir(f\"{subj}_fixed\")\n",
    "\n",
    "StudyInstanceUID = f\"2.25.{np.random.randint(10000000000000000,99999999999999999)}{np.random.randint(10000000000000000,99999999999999999)}\"\n",
    "SeriesInstanceUID = f\"2.25.{np.random.randint(10000000000000000,99999999999999999)}{np.random.randint(10000000000000000,99999999999999999)}\"\n",
    "\n",
    "for i in range(1,257):\n",
    "    ds = pydicom.dcmread(f\"{subj}_dicom/slice{i:03}.dcm\")\n",
    "    ds.ImageType = [\"ORIGINAL\", \"PRIMARY\", \"T1\"]\n",
    "    del(ds.ContentDate)\n",
    "    del(ds.AcquisitionDateTime)\n",
    "    ds.StudyTime = \"\"\n",
    "    del(ds.ContentTime)\n",
    "    ds.AccessionNumber = \"\"\n",
    "    ds.Manufacturer = \"manuf\"\n",
    "    ds.ReferringPhysicianName = \"refPhys\"\n",
    "    ds.StudyDescription = \"studyDesc\"\n",
    "    ds.SeriesDescription = \"T1w\"\n",
    "    ds.ManufacturerModelName = \"manufModName\"\n",
    "    ds.PatientBirthDate = \"\"\n",
    "    del(ds.DeviceSerialNumber)\n",
    "    del(ds.SoftwareVersions)\n",
    "    ds.StudyInstanceUID = StudyInstanceUID\n",
    "    ds.SeriesInstanceUID = SeriesInstanceUID\n",
    "    ds.StudyID = \"studyId\"\n",
    "    ds.SeriesNumber = 1\n",
    "    del(ds.NumberOfFrames)\n",
    "    del(ds.SmallestImagePixelValue)\n",
    "    del(ds.LargestImagePixelValue)\n",
    "    del(ds.SmallestPixelValueInSeries)\n",
    "    del(ds.LargestPixelValueInSeries)\n",
    "    del(ds.BurnedInAnnotation)\n",
    "    del(ds.LossyImageCompression)\n",
    "    \n",
    "    ds.save_as(f\"{subj}_fixed/slice{i:03}.dcm\")"
   ]
  }
 ],
 "metadata": {
  "interpreter": {
   "hash": "9f397702152a80de0594c35e544fa2a0a2778163ce3eecf69f4218f8253c23e6"
  },
  "kernelspec": {
   "display_name": "Python 3.7.10 ('CENIIT')",
   "language": "python",
   "name": "python3"
  },
  "language_info": {
   "codemirror_mode": {
    "name": "ipython",
    "version": 3
   },
   "file_extension": ".py",
   "mimetype": "text/x-python",
   "name": "python",
   "nbconvert_exporter": "python",
   "pygments_lexer": "ipython3",
   "version": "3.7.10"
  },
  "orig_nbformat": 4
 },
 "nbformat": 4,
 "nbformat_minor": 2
}
